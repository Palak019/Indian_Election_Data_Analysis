{
 "cells": [
  {
   "cell_type": "code",
   "execution_count": 225,
   "id": "a8d7a37b-8210-4087-89d9-f82641d33ad8",
   "metadata": {},
   "outputs": [
    {
     "data": {
      "text/html": [
       "<div>\n",
       "<style scoped>\n",
       "    .dataframe tbody tr th:only-of-type {\n",
       "        vertical-align: middle;\n",
       "    }\n",
       "\n",
       "    .dataframe tbody tr th {\n",
       "        vertical-align: top;\n",
       "    }\n",
       "\n",
       "    .dataframe thead th {\n",
       "        text-align: right;\n",
       "    }\n",
       "</style>\n",
       "<table border=\"1\" class=\"dataframe\">\n",
       "  <thead>\n",
       "    <tr style=\"text-align: right;\">\n",
       "      <th></th>\n",
       "      <th>st_name</th>\n",
       "      <th>year</th>\n",
       "      <th>pc_no</th>\n",
       "      <th>pc_name</th>\n",
       "      <th>pc_type</th>\n",
       "      <th>cand_name</th>\n",
       "      <th>cand_sex</th>\n",
       "      <th>partyname</th>\n",
       "      <th>partyabbre</th>\n",
       "      <th>totvotpoll</th>\n",
       "      <th>electors</th>\n",
       "    </tr>\n",
       "  </thead>\n",
       "  <tbody>\n",
       "    <tr>\n",
       "      <th>0</th>\n",
       "      <td>Andaman &amp; Nicobar Islands</td>\n",
       "      <td>1977.0</td>\n",
       "      <td>1.0</td>\n",
       "      <td>ANDAMAN &amp; NICOBAR ISLANDS</td>\n",
       "      <td>GEN</td>\n",
       "      <td>K.R. Ganesh</td>\n",
       "      <td>Male</td>\n",
       "      <td>independents</td>\n",
       "      <td>IND</td>\n",
       "      <td>25168.0</td>\n",
       "      <td>NaN</td>\n",
       "    </tr>\n",
       "    <tr>\n",
       "      <th>1</th>\n",
       "      <td>Andaman &amp; Nicobar Islands</td>\n",
       "      <td>1977.0</td>\n",
       "      <td>1.0</td>\n",
       "      <td>ANDAMAN &amp; NICOBAR ISLANDS</td>\n",
       "      <td>GEN</td>\n",
       "      <td>Manoranjan Bhakta</td>\n",
       "      <td>Male</td>\n",
       "      <td>indian_national_congress</td>\n",
       "      <td>INC</td>\n",
       "      <td>35400.0</td>\n",
       "      <td>85308.0</td>\n",
       "    </tr>\n",
       "    <tr>\n",
       "      <th>2</th>\n",
       "      <td>Andaman &amp; Nicobar Islands</td>\n",
       "      <td>1980.0</td>\n",
       "      <td>1.0</td>\n",
       "      <td>ANDAMAN &amp; NICOBAR ISLANDS</td>\n",
       "      <td>GEN</td>\n",
       "      <td>Ramesh Mazumdar</td>\n",
       "      <td>Male</td>\n",
       "      <td>NaN</td>\n",
       "      <td>IND</td>\n",
       "      <td>109.0</td>\n",
       "      <td>96084.0</td>\n",
       "    </tr>\n",
       "    <tr>\n",
       "      <th>3</th>\n",
       "      <td>Andaman &amp; Nicobar Islands</td>\n",
       "      <td>1980.0</td>\n",
       "      <td>1.0</td>\n",
       "      <td>ANDAMAN &amp; NICOBAR ISLANDS</td>\n",
       "      <td>GEN</td>\n",
       "      <td>Alagiri Swamy</td>\n",
       "      <td>Male</td>\n",
       "      <td>independents</td>\n",
       "      <td>IND</td>\n",
       "      <td>NaN</td>\n",
       "      <td>96084.0</td>\n",
       "    </tr>\n",
       "    <tr>\n",
       "      <th>4</th>\n",
       "      <td>Andaman &amp; Nicobar Islands</td>\n",
       "      <td>1980.0</td>\n",
       "      <td>1.0</td>\n",
       "      <td>ANDAMAN &amp; NICOBAR ISLANDS</td>\n",
       "      <td>GEN</td>\n",
       "      <td>Kannu Chemy</td>\n",
       "      <td>Male</td>\n",
       "      <td>independents</td>\n",
       "      <td>IND</td>\n",
       "      <td>405.0</td>\n",
       "      <td>96084.0</td>\n",
       "    </tr>\n",
       "    <tr>\n",
       "      <th>...</th>\n",
       "      <td>...</td>\n",
       "      <td>...</td>\n",
       "      <td>...</td>\n",
       "      <td>...</td>\n",
       "      <td>...</td>\n",
       "      <td>...</td>\n",
       "      <td>...</td>\n",
       "      <td>...</td>\n",
       "      <td>...</td>\n",
       "      <td>...</td>\n",
       "      <td>...</td>\n",
       "    </tr>\n",
       "    <tr>\n",
       "      <th>73176</th>\n",
       "      <td>Assam</td>\n",
       "      <td>2014.0</td>\n",
       "      <td>9.0</td>\n",
       "      <td>TEZPUR</td>\n",
       "      <td>GEN</td>\n",
       "      <td>Khemraj Chetry</td>\n",
       "      <td>Male</td>\n",
       "      <td>cpm</td>\n",
       "      <td>CPM</td>\n",
       "      <td>24910.0</td>\n",
       "      <td>1259568.0</td>\n",
       "    </tr>\n",
       "    <tr>\n",
       "      <th>73177</th>\n",
       "      <td>Gujarat</td>\n",
       "      <td>1984.0</td>\n",
       "      <td>18.0</td>\n",
       "      <td>GODHRA</td>\n",
       "      <td>GEN</td>\n",
       "      <td>Deepak Kumar Jayantlal Sheth</td>\n",
       "      <td>Male</td>\n",
       "      <td>independent</td>\n",
       "      <td>IND</td>\n",
       "      <td>1293.0</td>\n",
       "      <td>662634.0</td>\n",
       "    </tr>\n",
       "    <tr>\n",
       "      <th>73178</th>\n",
       "      <td>Rajasthan</td>\n",
       "      <td>1984.0</td>\n",
       "      <td>12.0</td>\n",
       "      <td>AJMER</td>\n",
       "      <td>NaN</td>\n",
       "      <td>Kailash Meghwal</td>\n",
       "      <td>Male</td>\n",
       "      <td>NaN</td>\n",
       "      <td>BJP</td>\n",
       "      <td>159479.0</td>\n",
       "      <td>742253.0</td>\n",
       "    </tr>\n",
       "    <tr>\n",
       "      <th>73179</th>\n",
       "      <td>Bihar</td>\n",
       "      <td>1996.0</td>\n",
       "      <td>41.0</td>\n",
       "      <td>JAHANABAD</td>\n",
       "      <td>GEN</td>\n",
       "      <td>Sujeet Kumar</td>\n",
       "      <td>Male</td>\n",
       "      <td>independent</td>\n",
       "      <td>IND</td>\n",
       "      <td>50.0</td>\n",
       "      <td>1093022.0</td>\n",
       "    </tr>\n",
       "    <tr>\n",
       "      <th>73180</th>\n",
       "      <td>Uttar Pradesh</td>\n",
       "      <td>1989.0</td>\n",
       "      <td>5.0</td>\n",
       "      <td>NaN</td>\n",
       "      <td>SC</td>\n",
       "      <td>Jaipal</td>\n",
       "      <td>Male</td>\n",
       "      <td>doordarshi_party</td>\n",
       "      <td>DDP</td>\n",
       "      <td>2179.0</td>\n",
       "      <td>926223.0</td>\n",
       "    </tr>\n",
       "  </tbody>\n",
       "</table>\n",
       "<p>73181 rows × 11 columns</p>\n",
       "</div>"
      ],
      "text/plain": [
       "                         st_name    year  pc_no                    pc_name  \\\n",
       "0      Andaman & Nicobar Islands  1977.0    1.0  ANDAMAN & NICOBAR ISLANDS   \n",
       "1      Andaman & Nicobar Islands  1977.0    1.0  ANDAMAN & NICOBAR ISLANDS   \n",
       "2      Andaman & Nicobar Islands  1980.0    1.0  ANDAMAN & NICOBAR ISLANDS   \n",
       "3      Andaman & Nicobar Islands  1980.0    1.0  ANDAMAN & NICOBAR ISLANDS   \n",
       "4      Andaman & Nicobar Islands  1980.0    1.0  ANDAMAN & NICOBAR ISLANDS   \n",
       "...                          ...     ...    ...                        ...   \n",
       "73176                      Assam  2014.0    9.0                     TEZPUR   \n",
       "73177                    Gujarat  1984.0   18.0                     GODHRA   \n",
       "73178                  Rajasthan  1984.0   12.0                      AJMER   \n",
       "73179                      Bihar  1996.0   41.0                  JAHANABAD   \n",
       "73180              Uttar Pradesh  1989.0    5.0                        NaN   \n",
       "\n",
       "      pc_type                     cand_name cand_sex  \\\n",
       "0         GEN                   K.R. Ganesh     Male   \n",
       "1         GEN             Manoranjan Bhakta     Male   \n",
       "2         GEN               Ramesh Mazumdar     Male   \n",
       "3         GEN                 Alagiri Swamy     Male   \n",
       "4         GEN                   Kannu Chemy     Male   \n",
       "...       ...                           ...      ...   \n",
       "73176     GEN                Khemraj Chetry     Male   \n",
       "73177     GEN  Deepak Kumar Jayantlal Sheth     Male   \n",
       "73178     NaN               Kailash Meghwal     Male   \n",
       "73179     GEN                  Sujeet Kumar     Male   \n",
       "73180      SC                        Jaipal     Male   \n",
       "\n",
       "                      partyname partyabbre  totvotpoll   electors  \n",
       "0                  independents        IND     25168.0        NaN  \n",
       "1      indian_national_congress        INC     35400.0    85308.0  \n",
       "2                           NaN        IND       109.0    96084.0  \n",
       "3                  independents        IND         NaN    96084.0  \n",
       "4                  independents        IND       405.0    96084.0  \n",
       "...                         ...        ...         ...        ...  \n",
       "73176                       cpm        CPM     24910.0  1259568.0  \n",
       "73177               independent        IND      1293.0   662634.0  \n",
       "73178                       NaN        BJP    159479.0   742253.0  \n",
       "73179               independent        IND        50.0  1093022.0  \n",
       "73180          doordarshi_party        DDP      2179.0   926223.0  \n",
       "\n",
       "[73181 rows x 11 columns]"
      ]
     },
     "execution_count": 225,
     "metadata": {},
     "output_type": "execute_result"
    }
   ],
   "source": [
    "import pandas as pd\n",
    "df = pd.read_csv(\"Indian_election_dataset.csv\")  \n",
    "df\n"
   ]
  },
  {
   "cell_type": "code",
   "execution_count": 227,
   "id": "02f7b9f2-02c8-4753-be28-20a6a798eebc",
   "metadata": {},
   "outputs": [
    {
     "name": "stdout",
     "output_type": "stream",
     "text": [
      "<class 'pandas.core.frame.DataFrame'>\n",
      "RangeIndex: 73181 entries, 0 to 73180\n",
      "Data columns (total 11 columns):\n",
      " #   Column      Non-Null Count  Dtype  \n",
      "---  ------      --------------  -----  \n",
      " 0   st_name     69594 non-null  object \n",
      " 1   year        69495 non-null  float64\n",
      " 2   pc_no       69591 non-null  float64\n",
      " 3   pc_name     69643 non-null  object \n",
      " 4   pc_type     61815 non-null  object \n",
      " 5   cand_name   69568 non-null  object \n",
      " 6   cand_sex    68987 non-null  object \n",
      " 7   partyname   69605 non-null  object \n",
      " 8   partyabbre  69618 non-null  object \n",
      " 9   totvotpoll  69608 non-null  float64\n",
      " 10  electors    69437 non-null  float64\n",
      "dtypes: float64(4), object(7)\n",
      "memory usage: 6.1+ MB\n"
     ]
    }
   ],
   "source": [
    "df.info()"
   ]
  },
  {
   "cell_type": "code",
   "execution_count": 229,
   "id": "a7da1500-ec0d-4861-9264-627860f2330d",
   "metadata": {},
   "outputs": [],
   "source": [
    "df.drop(['partyabbre','pc_name','pc_no'],axis=1, inplace=True)\n"
   ]
  },
  {
   "cell_type": "code",
   "execution_count": 231,
   "id": "57078d57-50f4-4323-bb64-dbb8a9df230f",
   "metadata": {},
   "outputs": [
    {
     "name": "stdout",
     "output_type": "stream",
     "text": [
      "<class 'pandas.core.frame.DataFrame'>\n",
      "RangeIndex: 73181 entries, 0 to 73180\n",
      "Data columns (total 8 columns):\n",
      " #   Column      Non-Null Count  Dtype  \n",
      "---  ------      --------------  -----  \n",
      " 0   st_name     69594 non-null  object \n",
      " 1   year        69495 non-null  float64\n",
      " 2   pc_type     61815 non-null  object \n",
      " 3   cand_name   69568 non-null  object \n",
      " 4   cand_sex    68987 non-null  object \n",
      " 5   partyname   69605 non-null  object \n",
      " 6   totvotpoll  69608 non-null  float64\n",
      " 7   electors    69437 non-null  float64\n",
      "dtypes: float64(3), object(5)\n",
      "memory usage: 4.5+ MB\n"
     ]
    }
   ],
   "source": [
    "df.info()\n"
   ]
  },
  {
   "cell_type": "code",
   "execution_count": 233,
   "id": "1e78c8f9-1a8a-40d9-842e-eee4dc7bf140",
   "metadata": {},
   "outputs": [],
   "source": [
    "df.rename(columns={\n",
    "    'st_name': 'State',\n",
    "    'pc_no': 'Constituency_No',\n",
    "    'pc_type': 'Constituency_Type',\n",
    "    'cand_name': 'Candidate_Name',\n",
    "    'cand_sex': 'Candidate_Gender',\n",
    "    'totvotpoll': 'Votes_Polled',\n",
    "},inplace=True)\n"
   ]
  },
  {
   "cell_type": "code",
   "execution_count": 235,
   "id": "d7cef373-f078-4e9c-8ca2-cfd6bf26d5f5",
   "metadata": {},
   "outputs": [
    {
     "name": "stdout",
     "output_type": "stream",
     "text": [
      "<class 'pandas.core.frame.DataFrame'>\n",
      "RangeIndex: 73181 entries, 0 to 73180\n",
      "Data columns (total 8 columns):\n",
      " #   Column             Non-Null Count  Dtype  \n",
      "---  ------             --------------  -----  \n",
      " 0   State              69594 non-null  object \n",
      " 1   year               69495 non-null  float64\n",
      " 2   Constituency_Type  61815 non-null  object \n",
      " 3   Candidate_Name     69568 non-null  object \n",
      " 4   Candidate_Gender   68987 non-null  object \n",
      " 5   partyname          69605 non-null  object \n",
      " 6   Votes_Polled       69608 non-null  float64\n",
      " 7   electors           69437 non-null  float64\n",
      "dtypes: float64(3), object(5)\n",
      "memory usage: 4.5+ MB\n"
     ]
    }
   ],
   "source": [
    "df.info()"
   ]
  },
  {
   "cell_type": "code",
   "execution_count": 237,
   "id": "1fff5a2a-c171-4b6b-9750-f7e91c1c30b2",
   "metadata": {},
   "outputs": [],
   "source": [
    "df.drop_duplicates(inplace=True)"
   ]
  },
  {
   "cell_type": "code",
   "execution_count": 239,
   "id": "153d48e0-b46e-44c9-80af-0964939881ce",
   "metadata": {},
   "outputs": [
    {
     "name": "stdout",
     "output_type": "stream",
     "text": [
      "<class 'pandas.core.frame.DataFrame'>\n",
      "Index: 73079 entries, 0 to 73080\n",
      "Data columns (total 8 columns):\n",
      " #   Column             Non-Null Count  Dtype  \n",
      "---  ------             --------------  -----  \n",
      " 0   State              69496 non-null  object \n",
      " 1   year               69396 non-null  float64\n",
      " 2   Constituency_Type  61726 non-null  object \n",
      " 3   Candidate_Name     69475 non-null  object \n",
      " 4   Candidate_Gender   68892 non-null  object \n",
      " 5   partyname          69507 non-null  object \n",
      " 6   Votes_Polled       69509 non-null  float64\n",
      " 7   electors           69340 non-null  float64\n",
      "dtypes: float64(3), object(5)\n",
      "memory usage: 5.0+ MB\n"
     ]
    }
   ],
   "source": [
    "df.info()"
   ]
  },
  {
   "cell_type": "code",
   "execution_count": 241,
   "id": "7ed318d9-adda-4744-86c2-edb073c8d923",
   "metadata": {},
   "outputs": [],
   "source": [
    "df['State'] = df['State'].astype(\"string\")\n",
    "df['Candidate_Name'] = df['Candidate_Name'].astype(\"string\")\n",
    "df['Candidate_Gender'] = df['Candidate_Gender'].astype(\"string\")\n",
    "df['partyname'] = df['partyname'].astype(\"string\")\n",
    "df['Constituency_Type'] = df['Constituency_Type'].astype(\"string\")\n"
   ]
  },
  {
   "cell_type": "code",
   "execution_count": 243,
   "id": "e15171fb-64e8-4052-aa36-b093fbf3f4f4",
   "metadata": {},
   "outputs": [],
   "source": [
    "df=df.dropna(subset=(['State','year']))"
   ]
  },
  {
   "cell_type": "code",
   "execution_count": 245,
   "id": "79aad806-aeec-4fab-9720-abc3adc501c1",
   "metadata": {},
   "outputs": [
    {
     "name": "stdout",
     "output_type": "stream",
     "text": [
      "<class 'pandas.core.frame.DataFrame'>\n",
      "Index: 65996 entries, 0 to 73080\n",
      "Data columns (total 8 columns):\n",
      " #   Column             Non-Null Count  Dtype  \n",
      "---  ------             --------------  -----  \n",
      " 0   State              65996 non-null  string \n",
      " 1   year               65996 non-null  float64\n",
      " 2   Constituency_Type  55747 non-null  string \n",
      " 3   Candidate_Name     62746 non-null  string \n",
      " 4   Candidate_Gender   62238 non-null  string \n",
      " 5   partyname          62796 non-null  string \n",
      " 6   Votes_Polled       62780 non-null  float64\n",
      " 7   electors           62635 non-null  float64\n",
      "dtypes: float64(3), string(5)\n",
      "memory usage: 4.5 MB\n"
     ]
    }
   ],
   "source": [
    "df.info()"
   ]
  },
  {
   "cell_type": "code",
   "execution_count": 247,
   "id": "59068a13-17e7-43d2-a31a-0c1ef4b76b12",
   "metadata": {},
   "outputs": [],
   "source": [
    "df=df.dropna(subset=(['Candidate_Name','partyname']))"
   ]
  },
  {
   "cell_type": "code",
   "execution_count": 249,
   "id": "32857694-9893-470c-8331-fc7b6a7f3997",
   "metadata": {},
   "outputs": [
    {
     "name": "stdout",
     "output_type": "stream",
     "text": [
      "<class 'pandas.core.frame.DataFrame'>\n",
      "Index: 59708 entries, 0 to 73080\n",
      "Data columns (total 8 columns):\n",
      " #   Column             Non-Null Count  Dtype  \n",
      "---  ------             --------------  -----  \n",
      " 0   State              59708 non-null  string \n",
      " 1   year               59708 non-null  float64\n",
      " 2   Constituency_Type  50455 non-null  string \n",
      " 3   Candidate_Name     59708 non-null  string \n",
      " 4   Candidate_Gender   56296 non-null  string \n",
      " 5   partyname          59708 non-null  string \n",
      " 6   Votes_Polled       56797 non-null  float64\n",
      " 7   electors           56678 non-null  float64\n",
      "dtypes: float64(3), string(5)\n",
      "memory usage: 4.1 MB\n"
     ]
    }
   ],
   "source": [
    "df.info()"
   ]
  },
  {
   "cell_type": "code",
   "execution_count": 251,
   "id": "9e13a6b9-44bd-4c4e-9bc5-1d402bed5cf5",
   "metadata": {},
   "outputs": [],
   "source": [
    "df=df.dropna(subset=(['Candidate_Gender']))"
   ]
  },
  {
   "cell_type": "code",
   "execution_count": 253,
   "id": "830e4f84-de32-4984-aa4e-231b1c27f6fb",
   "metadata": {},
   "outputs": [],
   "source": [
    "df['electors']=df['electors'].fillna(df['electors'].median())"
   ]
  },
  {
   "cell_type": "code",
   "execution_count": 255,
   "id": "2973d4b0-3312-4589-a066-c51418ff047e",
   "metadata": {},
   "outputs": [
    {
     "name": "stdout",
     "output_type": "stream",
     "text": [
      "<class 'pandas.core.frame.DataFrame'>\n",
      "Index: 56296 entries, 0 to 73080\n",
      "Data columns (total 8 columns):\n",
      " #   Column             Non-Null Count  Dtype  \n",
      "---  ------             --------------  -----  \n",
      " 0   State              56296 non-null  string \n",
      " 1   year               56296 non-null  float64\n",
      " 2   Constituency_Type  47512 non-null  string \n",
      " 3   Candidate_Name     56296 non-null  string \n",
      " 4   Candidate_Gender   56296 non-null  string \n",
      " 5   partyname          56296 non-null  string \n",
      " 6   Votes_Polled       53555 non-null  float64\n",
      " 7   electors           56296 non-null  float64\n",
      "dtypes: float64(3), string(5)\n",
      "memory usage: 3.9 MB\n"
     ]
    }
   ],
   "source": [
    "df.info()"
   ]
  },
  {
   "cell_type": "code",
   "execution_count": 257,
   "id": "d4ff9689-2bbb-43aa-8f2a-aa9b0db64024",
   "metadata": {},
   "outputs": [],
   "source": [
    "df['year']=df['year'].astype(int)"
   ]
  },
  {
   "cell_type": "code",
   "execution_count": 259,
   "id": "f88f6702-c853-4150-a2e7-26fe0b7f6712",
   "metadata": {},
   "outputs": [
    {
     "name": "stdout",
     "output_type": "stream",
     "text": [
      "<class 'pandas.core.frame.DataFrame'>\n",
      "Index: 56296 entries, 0 to 73080\n",
      "Data columns (total 8 columns):\n",
      " #   Column             Non-Null Count  Dtype  \n",
      "---  ------             --------------  -----  \n",
      " 0   State              56296 non-null  string \n",
      " 1   year               56296 non-null  int32  \n",
      " 2   Constituency_Type  47512 non-null  string \n",
      " 3   Candidate_Name     56296 non-null  string \n",
      " 4   Candidate_Gender   56296 non-null  string \n",
      " 5   partyname          56296 non-null  string \n",
      " 6   Votes_Polled       53555 non-null  float64\n",
      " 7   electors           56296 non-null  float64\n",
      "dtypes: float64(2), int32(1), string(5)\n",
      "memory usage: 3.7 MB\n"
     ]
    }
   ],
   "source": [
    "df.info()"
   ]
  },
  {
   "cell_type": "code",
   "execution_count": 261,
   "id": "ddd7fb37-3bf6-4b1b-8567-5b6b7b9e9e29",
   "metadata": {},
   "outputs": [],
   "source": [
    "df['Candidate_Gender'] = df['Candidate_Gender'].replace('F', 'Female')\n"
   ]
  },
  {
   "cell_type": "code",
   "execution_count": 263,
   "id": "b53ee2e1-e6ab-489d-ae68-2da0a91c9b0a",
   "metadata": {},
   "outputs": [
    {
     "name": "stdout",
     "output_type": "stream",
     "text": [
      "<class 'pandas.core.frame.DataFrame'>\n",
      "Index: 56296 entries, 0 to 73080\n",
      "Data columns (total 8 columns):\n",
      " #   Column             Non-Null Count  Dtype  \n",
      "---  ------             --------------  -----  \n",
      " 0   State              56296 non-null  string \n",
      " 1   year               56296 non-null  int32  \n",
      " 2   Constituency_Type  47512 non-null  string \n",
      " 3   Candidate_Name     56296 non-null  string \n",
      " 4   Candidate_Gender   56296 non-null  string \n",
      " 5   partyname          56296 non-null  string \n",
      " 6   Votes_Polled       53555 non-null  float64\n",
      " 7   electors           56296 non-null  float64\n",
      "dtypes: float64(2), int32(1), string(5)\n",
      "memory usage: 3.7 MB\n"
     ]
    }
   ],
   "source": [
    "df.info()"
   ]
  },
  {
   "cell_type": "code",
   "execution_count": 278,
   "id": "ffd14a8e-5078-45be-83da-390ae3d5d817",
   "metadata": {},
   "outputs": [],
   "source": [
    "df['Constituency_Type'] = df['Constituency_Type'].fillna('Other')"
   ]
  },
  {
   "cell_type": "code",
   "execution_count": 280,
   "id": "d1e1407b-a10c-41f0-b3eb-046924e69d41",
   "metadata": {},
   "outputs": [],
   "source": [
    "df['Votes_Polled']=df['Votes_Polled'].fillna(df['Votes_Polled'].median())"
   ]
  },
  {
   "cell_type": "code",
   "execution_count": 282,
   "id": "e5b7c5d8-0699-458b-bd24-6816dc992015",
   "metadata": {},
   "outputs": [],
   "source": [
    "df.to_csv('election_clean_data.csv' , index = False)\n"
   ]
  },
  {
   "cell_type": "code",
   "execution_count": null,
   "id": "7b55dfc5-f1e4-403e-acd4-661a7148c8d8",
   "metadata": {},
   "outputs": [],
   "source": []
  }
 ],
 "metadata": {
  "kernelspec": {
   "display_name": "Python [conda env:base] *",
   "language": "python",
   "name": "conda-base-py"
  },
  "language_info": {
   "codemirror_mode": {
    "name": "ipython",
    "version": 3
   },
   "file_extension": ".py",
   "mimetype": "text/x-python",
   "name": "python",
   "nbconvert_exporter": "python",
   "pygments_lexer": "ipython3",
   "version": "3.12.7"
  }
 },
 "nbformat": 4,
 "nbformat_minor": 5
}
